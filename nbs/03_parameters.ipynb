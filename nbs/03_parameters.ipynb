{
 "cells": [
  {
   "cell_type": "code",
   "execution_count": null,
   "metadata": {},
   "outputs": [],
   "source": [
    "# default_exp parameters"
   ]
  },
  {
   "cell_type": "code",
   "execution_count": null,
   "metadata": {},
   "outputs": [],
   "source": [
    "# hide\n",
    "%load_ext autoreload\n",
    "%autoreload 2"
   ]
  },
  {
   "cell_type": "code",
   "execution_count": null,
   "metadata": {},
   "outputs": [],
   "source": [
    "# hide\n",
    "from fastcore.test import *"
   ]
  },
  {
   "cell_type": "markdown",
   "metadata": {},
   "source": [
    "# Parameters\n",
    "\n",
    "> Define all General Parameters for training!"
   ]
  },
  {
   "cell_type": "code",
   "execution_count": null,
   "metadata": {},
   "outputs": [],
   "source": [
    "# export\n",
    "\n",
    "# Load the general modules\n",
    "import torch.nn as nn\n",
    "import numpy as np\n",
    "from torchvision import models\n",
    "import argparse\n",
    "import torch\n",
    "from tqdm import tqdm\n",
    "import platform"
   ]
  },
  {
   "cell_type": "markdown",
   "metadata": {},
   "source": [
    "## 1. Dataset parameters"
   ]
  },
  {
   "cell_type": "code",
   "execution_count": null,
   "metadata": {},
   "outputs": [],
   "source": [
    "# exports\n",
    "\n",
    "\n",
    "def get_dataset_args(parser, args=[]):\n",
    "    \"\"\"\n",
    "    Get all relevant parameters to handle the dataset\n",
    "    \"\"\"\n",
    "    # Dataset:\n",
    "    # ------------------------------------------------------------------------\n",
    "    parser.add_argument(\n",
    "        \"--dataset_type\",\n",
    "        type=str,\n",
    "        default=\"MRNet\",\n",
    "        help='Dataset: \"MRNet, KneeXray, ...\"',\n",
    "    )\n",
    "    parser.add_argument(\n",
    "        \"--n_gpu\", type=int, default=1, help=\"Number of GPUs on the PC\",\n",
    "    )\n",
    "    parser.add_argument(\n",
    "        \"--crop_size\", type=int, default=16, help=\"Depth of the MR-Scan\",\n",
    "    )\n",
    "    parser.add_argument(\n",
    "        \"--rot_max\", type=int, default=30, help=\"Maximum random rotation angle\",\n",
    "    )\n",
    "    parser.add_argument(\n",
    "        \"--crop_percent\",\n",
    "        type=float,\n",
    "        default=0.7,\n",
    "        help=\"if we use triplenet take percentage of av. layers\",\n",
    "    )\n",
    "    parser.add_argument(\n",
    "        \"--rand_crop\", type=bool, default=True, help=\"Decide whether to crop randomly\",\n",
    "    )\n",
    "    parser.add_argument(\n",
    "        \"--pic_size\", type=int, default=256, help=\"Picture size of the MR-Scan\",\n",
    "    )\n",
    "    parser.add_argument(\n",
    "        \"--batch_size\", type=int, default=16, help=\"Batch size for training\",\n",
    "    )\n",
    "    parser.add_argument(\n",
    "        \"--num_worker\",\n",
    "        type=int,\n",
    "        default=0,\n",
    "        help=\"Number of workers for loading the dataset\",\n",
    "    )\n",
    "    # ------------------------------------------------------------------------\n",
    "    return parser"
   ]
  },
  {
   "cell_type": "markdown",
   "metadata": {},
   "source": [
    "### 1.1 Dataset MRNet\n",
    "> https://stanfordmlgroup.github.io/competitions/mrnet/"
   ]
  },
  {
   "cell_type": "code",
   "execution_count": null,
   "metadata": {},
   "outputs": [],
   "source": [
    "# exports\n",
    "\n",
    "\n",
    "def get_dataset_mrnet_args(parser, args=[]):\n",
    "    \"\"\"\n",
    "    Get all relevant parameters to handle the dataset\n",
    "    -> here: MRNET\n",
    "    \"\"\"\n",
    "\n",
    "    # determine path\n",
    "    if platform.system() == \"Linux\":\n",
    "        path = \"/home/biomech/Documents/OsteoData/MRNet-v1.0/\"\n",
    "    else:\n",
    "        path = \"C:/Users/Niko/Documents/data/MRNet-v1.0/MRNet-v1.0\"\n",
    "        # path = \"C:/Users/ga46yeg/data/MRNet-v1.0\"\n",
    "\n",
    "    # Dataset MRNet:\n",
    "    # ------------------------------------------------------------------------\n",
    "    parser.add_argument(\n",
    "        \"--root_dir_mrnet\", type=str, default=path, help=\"Directory of the dataset\"\n",
    "    )\n",
    "    parser.add_argument(\n",
    "        \"--perspectives\",\n",
    "        type=list,\n",
    "        default=[\"axial\", \"coronal\", \"sagittal\"],\n",
    "        help=\"Perspectives of the Mr Scans\",\n",
    "    )\n",
    "    parser.add_argument(\n",
    "        \"--classes\",\n",
    "        type=list,\n",
    "        default=[\"abn\", \"acl\", \"men\"],\n",
    "        help=\"Classify for these classes\",\n",
    "    )\n",
    "    # ------------------------------------------------------------------------\n",
    "    return parser"
   ]
  },
  {
   "cell_type": "markdown",
   "metadata": {},
   "source": [
    "### 1.2 Dataset Kneexray\n",
    "> https://data.mendeley.com/datasets/56rmx5bjcr/1"
   ]
  },
  {
   "cell_type": "code",
   "execution_count": null,
   "metadata": {},
   "outputs": [],
   "source": [
    "# exports\n",
    "\n",
    "\n",
    "def get_dataset_kneexray_args(parser, args=[]):\n",
    "    \"\"\"\n",
    "    Get all relevant parameters to handle the dataset\n",
    "    -> here: KneeXray\n",
    "    \"\"\"\n",
    "\n",
    "    # determine path\n",
    "    if platform.system() == \"Linux\":\n",
    "        path = \"/home/biomech/Documents/OsteoData/KneeXrayData/ClsKLData/kneeKL224/\"\n",
    "    else:\n",
    "        path = \"C:/Users/Niko/Documents/data/KneeXrayData/ClsKLData/kneeKL224\"\n",
    "\n",
    "    # Dataset KneeXray:\n",
    "    # ------------------------------------------------------------------------\n",
    "    parser.add_argument(\n",
    "        \"--root_dir_kneexray\", type=str, default=path, help=\"Directory of the dataset\"\n",
    "    )\n",
    "    # ------------------------------------------------------------------------\n",
    "    return parser"
   ]
  },
  {
   "cell_type": "markdown",
   "metadata": {},
   "source": [
    "## 2. General parameters:"
   ]
  },
  {
   "cell_type": "markdown",
   "metadata": {},
   "source": [
    "### 2.1 Model"
   ]
  },
  {
   "cell_type": "code",
   "execution_count": null,
   "metadata": {},
   "outputs": [],
   "source": [
    "# exports\n",
    "\n",
    "\n",
    "def get_model_args(parser, args=[]):\n",
    "    \"\"\"\n",
    "    parameters determing the network architecture\n",
    "    -> model_type: Which model should be applied?\n",
    "    -> load_model: Use pretrained model?\n",
    "    -> model_path: pretrained from which path?  \n",
    "    \"\"\"\n",
    "    # Model:\n",
    "    # ------------------------------------------------------------------------\n",
    "    parser.add_argument(\n",
    "        \"--model_type\",\n",
    "        type=str,\n",
    "        default=\"diagnosis\",\n",
    "        help='Model: \"introvae\", \"dcgan\", \"bigan\", \"vqvae\", \"diagnosis\", \"mocoae\", \"rnnvae\"',\n",
    "    )\n",
    "    parser.add_argument(\n",
    "        \"--load_model\",\n",
    "        type=bool,\n",
    "        default=False,\n",
    "        help=\"Determine whether to load pretrained model\",\n",
    "    )\n",
    "    parser.add_argument(\n",
    "        \"--model_path\",\n",
    "        type=str,\n",
    "        default=\"./data/src/_model\",\n",
    "        help=\"Path to the model parameters\",\n",
    "    )\n",
    "    # ------------------------------------------------------------------------\n",
    "    return parser"
   ]
  },
  {
   "cell_type": "markdown",
   "metadata": {},
   "source": [
    "### 2.2 Architecture"
   ]
  },
  {
   "cell_type": "code",
   "execution_count": null,
   "metadata": {},
   "outputs": [],
   "source": [
    "# exports\n",
    "\n",
    "\n",
    "def get_architecture_args(parser, args=[]):\n",
    "    \"\"\"\n",
    "    Parameters determing the network architecture\n",
    "    \"\"\"\n",
    "    # Architecture:\n",
    "    # ------------------------------------------------------------------------\n",
    "    parser.add_argument(\n",
    "        \"--dim\", type=int, default=3, help=\"Dimension of Network: -2- or -3- \"\n",
    "    )\n",
    "    parser.add_argument(\n",
    "        \"--n_fea_down\",\n",
    "        type=int,\n",
    "        default=16,\n",
    "        help=\"Number of Conv Features for Downscale Network\",\n",
    "    )\n",
    "    parser.add_argument(\n",
    "        \"--n_fea_up\",\n",
    "        type=int,\n",
    "        default=16,\n",
    "        help=\"Number of Conv Features for Upscale Network\",\n",
    "    )\n",
    "    parser.add_argument(\"--n_z\", type=int, default=100, help=\"Size of latent layer\")\n",
    "    parser.add_argument(\n",
    "        \"--min_size\",\n",
    "        type=int,\n",
    "        default=4,\n",
    "        help=\"Minimum encoding dimension for convolutions\",\n",
    "    )\n",
    "    parser.add_argument(\n",
    "        \"--scale2d\", type=int, default=2, help=\"Feature factor for 2d downscale\"\n",
    "    )\n",
    "    parser.add_argument(\n",
    "        \"--scale3d\", type=int, default=2, help=\"Feature factor for 3d downscale\"\n",
    "    )\n",
    "    parser.add_argument(\n",
    "        \"--n_res2d\",\n",
    "        type=int,\n",
    "        default=0,\n",
    "        help=\"Number of residual layers between striding -2d\",\n",
    "    )\n",
    "    parser.add_argument(\n",
    "        \"--n_res3d\",\n",
    "        type=int,\n",
    "        default=0,\n",
    "        help=\"Number of residual layers between striding -3d\",\n",
    "    )\n",
    "    parser.add_argument(\n",
    "        \"--evo_on\",\n",
    "        type=bool,\n",
    "        default=False,\n",
    "        help=\"Define whether to use the advancements of Evolving Normalization-Activation Layers\",\n",
    "    )\n",
    "    # ------------------------------------------------------------------------\n",
    "    return parser"
   ]
  },
  {
   "cell_type": "markdown",
   "metadata": {},
   "source": [
    "### 2.3 Optimisation"
   ]
  },
  {
   "cell_type": "code",
   "execution_count": null,
   "metadata": {},
   "outputs": [],
   "source": [
    "# exports\n",
    "\n",
    "\n",
    "def get_opt_args(parser, args=[]):\n",
    "    \"\"\"\n",
    "    parameters determing the VQVAE parameters \n",
    "    \"\"\"\n",
    "    # Optimizers:\n",
    "    # ------------------------------------------------------------------------\n",
    "    parser.add_argument(\"--lr\", type=float, default=0.0002, help=\"learning rate\")\n",
    "    parser.add_argument(\n",
    "        \"--n_epochs\", type=int, default=500, help=\"number of training epochs\"\n",
    "    )\n",
    "    # ------------------------------------------------------------------------\n",
    "    return parser"
   ]
  },
  {
   "cell_type": "markdown",
   "metadata": {},
   "source": [
    "### 2.4 Visualization"
   ]
  },
  {
   "cell_type": "code",
   "execution_count": null,
   "metadata": {},
   "outputs": [],
   "source": [
    "# exports\n",
    "\n",
    "\n",
    "def get_vis_args(parser, args=[]):\n",
    "    \"\"\"\n",
    "    parameters for visualization\n",
    "    \"\"\"\n",
    "    # Visualization:\n",
    "    # ------------------------------------------------------------------------\n",
    "    parser.add_argument(\n",
    "        \"--watch_batch\", type=int, default=1130, help=\"batchnumber for visualization\"\n",
    "    )\n",
    "    parser.add_argument(\n",
    "        \"--track\", type=bool, default=True, help=\"track the training progress\"\n",
    "    )\n",
    "    # ------------------------------------------------------------------------\n",
    "    return parser"
   ]
  },
  {
   "cell_type": "code",
   "execution_count": null,
   "metadata": {},
   "outputs": [],
   "source": [
    "# hide\n",
    "\n",
    "# Testing for general arguments\n",
    "args = []\n",
    "parser = argparse.ArgumentParser(description=\"Parameters for training\")\n",
    "parser = get_dataset_args(parser)\n",
    "parser = get_dataset_kneexray_args(parser)\n",
    "parser = get_dataset_mrnet_args(parser)\n",
    "parser = get_model_args(parser)\n",
    "parser = get_architecture_args(parser)\n",
    "parser = get_opt_args(parser)\n",
    "parser = get_vis_args(parser)\n",
    "\n",
    "args = parser.parse_args(args=args)\n",
    "\n",
    "test_eq(args.crop_size, 16)"
   ]
  },
  {
   "cell_type": "markdown",
   "metadata": {},
   "source": [
    "## 3. Model specific parameters"
   ]
  },
  {
   "cell_type": "markdown",
   "metadata": {},
   "source": [
    "### 3.1 IntroVAE"
   ]
  },
  {
   "cell_type": "code",
   "execution_count": null,
   "metadata": {},
   "outputs": [],
   "source": [
    "# exports\n",
    "\n",
    "\n",
    "def get_IntroVAE_args(parser, args=[]):\n",
    "    \"\"\"\n",
    "    parameters determing the IntroVae parameters \n",
    "    \"\"\"\n",
    "    # IntroVAE:\n",
    "    # ------------------------------------------------------------------------\n",
    "    parser.add_argument(\n",
    "        \"--alpha\", type=float, default=0.25, help=\"Factor for adversarial leaning\"\n",
    "    )\n",
    "    parser.add_argument(\n",
    "        \"--beta\", type=float, default=0.05, help=\"Factor for autoencoder leaning\"\n",
    "    )\n",
    "    parser.add_argument(\n",
    "        \"--gamma\",\n",
    "        type=float,\n",
    "        default=1,\n",
    "        help=\"Factor for variational autoencoder leaning\",\n",
    "    )\n",
    "    parser.add_argument(\n",
    "        \"--m\", type=float, default=90, help=\"Positive margin for valid learning\"\n",
    "    )\n",
    "    parser.add_argument(\n",
    "        \"--n_pretrain\",\n",
    "        type=int,\n",
    "        default=5,\n",
    "        help=\"training epochs for pretraining autoencoder\",\n",
    "    )\n",
    "    # ------------------------------------------------------------------------\n",
    "    return parser"
   ]
  },
  {
   "cell_type": "markdown",
   "metadata": {},
   "source": [
    "### 3.2 DCGAN"
   ]
  },
  {
   "cell_type": "code",
   "execution_count": null,
   "metadata": {},
   "outputs": [],
   "source": [
    "# exports\n",
    "\n",
    "\n",
    "def get_DCGAN_args(parser, args=[]):\n",
    "    \"\"\"\n",
    "    parameters determing the DCGAN parameters \n",
    "    \"\"\"\n",
    "    # DCGAN:\n",
    "    # ------------------------------------------------------------------------\n",
    "    parser.add_argument(\n",
    "        \"--lam\", type=float, default=10, help=\"Factor for scaling gradient penalty\"\n",
    "    )\n",
    "    parser.add_argument(\n",
    "        \"--wgan\",\n",
    "        type=bool,\n",
    "        default=False,\n",
    "        help=\"Determine if WGAN training should be activated\",\n",
    "    )\n",
    "    parser.add_argument(\n",
    "        \"--p_drop\",\n",
    "        type=float,\n",
    "        default=0.1,\n",
    "        help=\"Dropout probability for the Discriminator network\",\n",
    "    )\n",
    "    # ------------------------------------------------------------------------\n",
    "    return parser"
   ]
  },
  {
   "cell_type": "markdown",
   "metadata": {},
   "source": [
    "### 3.3 BiGAN"
   ]
  },
  {
   "cell_type": "code",
   "execution_count": null,
   "metadata": {},
   "outputs": [],
   "source": [
    "# exports\n",
    "\n",
    "\n",
    "def get_BiGAN_args(parser, args=[]):\n",
    "    \"\"\"\n",
    "    parameters determing the BiGAN parameters \n",
    "    \"\"\"\n",
    "    # BiGAN:\n",
    "    # ------------------------------------------------------------------------\n",
    "    parser.add_argument(\n",
    "        \"--bi_extension\",\n",
    "        type=bool,\n",
    "        default=False,\n",
    "        help=\"extending bigan to have sx, and sz (like in BigBiGAN)\",\n",
    "    )\n",
    "    parser.add_argument(\n",
    "        \"--bi_ae_scale\",\n",
    "        type=float,\n",
    "        default=0.9,\n",
    "        help=\"exponential decaying ae-part of the bigan network\",\n",
    "    )\n",
    "    # ------------------------------------------------------------------------\n",
    "    return parser"
   ]
  },
  {
   "cell_type": "markdown",
   "metadata": {},
   "source": [
    "### 3.4 VQVAE"
   ]
  },
  {
   "cell_type": "code",
   "execution_count": null,
   "metadata": {},
   "outputs": [],
   "source": [
    "# exports\n",
    "\n",
    "\n",
    "def get_VQVAE_args(parser, args=[]):\n",
    "    \"\"\"\n",
    "    parameters determing the VQVAE parameters \n",
    "    \"\"\"\n",
    "    # VQVAE2:\n",
    "    # ------------------------------------------------------------------------\n",
    "    parser.add_argument(\n",
    "        \"--vq_beta\",\n",
    "        type=float,\n",
    "        default=0.25,\n",
    "        help=\"change embedding to keep distance small\",\n",
    "    )\n",
    "    parser.add_argument(\n",
    "        \"--vq_gamma\",\n",
    "        type=float,\n",
    "        default=0.99,\n",
    "        help=\"discale factor for embedding learning\",\n",
    "    )\n",
    "    parser.add_argument(\n",
    "        \"--vq_layers\",\n",
    "        type=list,\n",
    "        default=[8, 16],\n",
    "        help=\"Dimensions of layers with quantization\",\n",
    "    )\n",
    "    parser.add_argument(\n",
    "        \"--vq_n_embed\",\n",
    "        type=int,\n",
    "        default=512,\n",
    "        help=\"Dimensions of layers with quantization\",\n",
    "    )\n",
    "    parser.add_argument(\n",
    "        \"--vq_classify\",\n",
    "        type=bool,\n",
    "        default=False,\n",
    "        help=\"Activate classifier within vq training\",\n",
    "    )\n",
    "    parser.add_argument(\n",
    "        \"--vq_class\", type=float, default=1.0, help=\"Factor for classifier learning\"\n",
    "    )\n",
    "    parser.add_argument(\n",
    "        \"--vq_gan\", type=bool, default=False, help=\"Activate GAN within vq training\"\n",
    "    )\n",
    "    # ------------------------------------------------------------------------\n",
    "    return parser"
   ]
  },
  {
   "cell_type": "markdown",
   "metadata": {},
   "source": [
    "### 3.5 Diagnosis (MRNet)"
   ]
  },
  {
   "cell_type": "code",
   "execution_count": null,
   "metadata": {},
   "outputs": [],
   "source": [
    "# exports\n",
    "\n",
    "\n",
    "def get_MRNet_args(parser, args=[]):\n",
    "    \"\"\"\n",
    "    parameters determing the MRNet parameters \n",
    "    \"\"\"\n",
    "    # MRNet Diagnosis:\n",
    "    # ------------------------------------------------------------------------\n",
    "    parser.add_argument(\n",
    "        \"--mrnet_backbone\",\n",
    "        type=str,\n",
    "        default=\"alexnet\",\n",
    "        help='Choose Backbone: \"resnet18\" or \"alexnet\", \"vgg\" or \"squeeze\"',\n",
    "    )\n",
    "    parser.add_argument(\n",
    "        \"--mrnet_label_smoothing\",\n",
    "        type=float,\n",
    "        default=0.1,\n",
    "        help=\"Smooth labels for potential better generalisation\",\n",
    "    )\n",
    "    parser.add_argument(\n",
    "        \"--mrnet_batch_update\",\n",
    "        type=int,\n",
    "        default=32,\n",
    "        help=\"Batchcount before updating the network\",\n",
    "    )\n",
    "    parser.add_argument(\n",
    "        \"--mrnet_hidden_dim\",\n",
    "        type=int,\n",
    "        default=256,\n",
    "        help=\"Size of the hidden layer for the RNN part\",\n",
    "    )\n",
    "    parser.add_argument(\n",
    "        \"--mrnet_rnn_gap\",\n",
    "        type=bool,\n",
    "        default=True,\n",
    "        help=\"Use an GRU Unit instead of adaptive average gap\",\n",
    "    )\n",
    "    parser.add_argument(\n",
    "        \"--mrnet_singlestream\",\n",
    "        type=bool,\n",
    "        default=True,\n",
    "        help=\"Use only a single Backbone and Gap\",\n",
    "    )\n",
    "    # ------------------------------------------------------------------------\n",
    "    return parser"
   ]
  },
  {
   "cell_type": "markdown",
   "metadata": {},
   "source": [
    "### 3.6 RNN VAE"
   ]
  },
  {
   "cell_type": "code",
   "execution_count": null,
   "metadata": {},
   "outputs": [],
   "source": [
    "# exports\n",
    "\n",
    "\n",
    "def get_RNN_VAE_args(parser, args=[]):\n",
    "    \"\"\"\n",
    "    parameters determing the Recurrent Varaitional Autoencoder parameters \n",
    "    \"\"\"\n",
    "    # RNN VAE:\n",
    "    # ------------------------------------------------------------------------\n",
    "    parser.add_argument(\n",
    "        \"--rnn_transition\",\n",
    "        type=str,\n",
    "        default=\"cnn\",\n",
    "        help=\"Define whether the transition layer is active! -> 2D or Pseudo 3D!\",\n",
    "    )\n",
    "    parser.add_argument(\n",
    "        \"--rnn_type\",\n",
    "        type=str,\n",
    "        default=\"ae\",\n",
    "        help=\"Define the Type: ae / vae / intro /bigan\",\n",
    "    )\n",
    "    # ------------------------------------------------------------------------\n",
    "    return parser"
   ]
  },
  {
   "cell_type": "markdown",
   "metadata": {},
   "source": [
    "### 3.7 MoCoAE"
   ]
  },
  {
   "cell_type": "code",
   "execution_count": null,
   "metadata": {},
   "outputs": [],
   "source": [
    "# exports\n",
    "\n",
    "\n",
    "def get_MoCoAE_args(parser, args=[]):\n",
    "    \"\"\"\n",
    "    parameters determing the VQVAE parameters \n",
    "    \"\"\"\n",
    "    # MoCoAE:\n",
    "    # ------------------------------------------------------------------------\n",
    "    parser.add_argument(\n",
    "        \"--moco_tau\",\n",
    "        type=float,\n",
    "        default=1, # 0.07 in standard form\n",
    "        help=\"Temperature parameter for the logit loss\",\n",
    "    )\n",
    "    parser.add_argument(\n",
    "        \"--moco_K\",\n",
    "        type=int,\n",
    "        default=16384,\n",
    "        help=\"The Dictionary Size / anz of negative logits\",\n",
    "    )\n",
    "    parser.add_argument(\n",
    "        \"--moco_m\",\n",
    "        type=list,\n",
    "        default=[0.999, 0.99],\n",
    "        help=\"The Momentum for the key Network update encoder[0] and decoder[1]\",\n",
    "    )\n",
    "    parser.add_argument(\n",
    "        \"--moco_aemode\",\n",
    "        type=bool,\n",
    "        default=False,\n",
    "        help=\"Define whether the normale autoencoder loss should be considered during training\",\n",
    "    )\n",
    "    parser.add_argument(\n",
    "        \"--moco_ganmode\",\n",
    "        type=bool,\n",
    "        default=False,\n",
    "        help=\"Define whether the a Generative Adversarial approach should be taken during training\",\n",
    "    )\n",
    "    # ------------------------------------------------------------------------\n",
    "    return parser"
   ]
  },
  {
   "cell_type": "code",
   "execution_count": null,
   "metadata": {},
   "outputs": [],
   "source": [
    "# hide\n",
    "\n",
    "# Testing for specific arguments\n",
    "args = []\n",
    "parser = argparse.ArgumentParser(description=\"Parameters for training\")\n",
    "\n",
    "parser = get_IntroVAE_args(parser)\n",
    "parser = get_DCGAN_args(parser)\n",
    "parser = get_BiGAN_args(parser)\n",
    "parser = get_VQVAE_args(parser)\n",
    "parser = get_MRNet_args(parser)\n",
    "parser = get_MoCoAE_args(parser)\n",
    "\n",
    "args = parser.parse_args(args=args)\n",
    "\n",
    "test_eq(args.vq_gamma, 0.99)"
   ]
  },
  {
   "cell_type": "markdown",
   "metadata": {},
   "source": [
    "## Export all arguments"
   ]
  },
  {
   "cell_type": "code",
   "execution_count": null,
   "metadata": {},
   "outputs": [],
   "source": [
    "# export\n",
    "\n",
    "\n",
    "def compat_args(args):\n",
    "    \"\"\"\n",
    "    make arguments compatible with each others by applying all necessary logic\n",
    "    - so far only crop_size and dim can be uncompatible!\n",
    "    \"\"\"\n",
    "    if args.dim == 2:\n",
    "        # change to 1\n",
    "        args.crop_size = 1\n",
    "\n",
    "    if args.dataset_type in [\n",
    "        \"KneeXray\",\n",
    "    ]:\n",
    "        args.dim = 2\n",
    "        args.crop_size = 1\n",
    "        args.perspectives = list(range(3))\n",
    "\n",
    "    return args"
   ]
  },
  {
   "cell_type": "code",
   "execution_count": null,
   "metadata": {},
   "outputs": [],
   "source": [
    "# export\n",
    "\n",
    "\n",
    "def get_all_args(args=[]):\n",
    "    \"\"\"\n",
    "    return all predefined arguments using the combined parameter getters\n",
    "    \"\"\"\n",
    "    # setup\n",
    "    parser = argparse.ArgumentParser(description=\"Parameters for training\")\n",
    "\n",
    "    # dataset args\n",
    "    parser = get_dataset_args(parser, args)\n",
    "    parser = get_dataset_mrnet_args(parser, args)\n",
    "    parser = get_dataset_kneexray_args(parser, args)\n",
    "\n",
    "    # general args\n",
    "    parser = get_model_args(parser, args)\n",
    "    parser = get_architecture_args(parser, args)\n",
    "    parser = get_opt_args(parser, args)\n",
    "    parser = get_vis_args(parser, args)\n",
    "\n",
    "    # Model specific args\n",
    "    parser = get_IntroVAE_args(parser, args)\n",
    "    parser = get_DCGAN_args(parser, args)\n",
    "    parser = get_BiGAN_args(parser, args)\n",
    "    parser = get_VQVAE_args(parser, args)\n",
    "    parser = get_MRNet_args(parser, args)\n",
    "    parser = get_RNN_VAE_args(parser, args)\n",
    "    parser = get_MoCoAE_args(parser)\n",
    "\n",
    "    # transform\n",
    "    args = parser.parse_args(args=args)\n",
    "\n",
    "    # correct crop size\n",
    "    args = compat_args(args)\n",
    "\n",
    "    return args"
   ]
  },
  {
   "cell_type": "markdown",
   "metadata": {},
   "source": [
    "Let's display all current arguments"
   ]
  },
  {
   "cell_type": "code",
   "execution_count": null,
   "metadata": {},
   "outputs": [
    {
     "data": {
      "text/plain": [
       "Namespace(alpha=1, batch_size=16, beta=1, bi_ae_scale=0.9, bi_extension=False, classes=['abn', 'acl', 'men'], crop_percent=0.7, crop_size=16, dataset_type='MRNet', dim=3, gamma=5, lam=10, load_model=False, lr=0.0001, m=2000, min_size=4, moco_K=16384, moco_m=[0.999, 0.99], moco_tau=0.07, model_path='./data/src/_model', model_type='diagnosis', mrnet_backbone='alexnet', mrnet_batch_update=32, mrnet_hidden_dim=256, mrnet_label_smoothing=0.1, mrnet_rnn_gap=True, mrnet_singlestream=True, n_epochs=500, n_fea_down=16, n_fea_up=16, n_gpu=1, n_pretrain=10, n_res2d=0, n_res3d=0, n_z=100, num_worker=0, p_drop=0.1, perspectives=['axial', 'coronal', 'sagittal'], pic_size=256, rand_crop=True, rnn_transition='cnn', rnn_type='ae', root_dir_kneexray='C:/Users/Niko/Documents/data/KneeXrayData/ClsKLData/kneeKL224', root_dir_mrnet='C:/Users/Niko/Documents/data/MRNet-v1.0/MRNet-v1.0', scale2d=2, scale3d=2, track=True, vq_beta=0.25, vq_class=1.0, vq_classify=False, vq_gamma=0.99, vq_gan=False, vq_layers=[8, 16], vq_n_embed=512, watch_batch=1130, wgan=True)"
      ]
     },
     "execution_count": null,
     "metadata": {},
     "output_type": "execute_result"
    }
   ],
   "source": [
    "args = get_all_args()\n",
    "args"
   ]
  },
  {
   "cell_type": "code",
   "execution_count": null,
   "metadata": {},
   "outputs": [
    {
     "name": "stdout",
     "output_type": "stream",
     "text": [
      "Converted 00_dataloader.ipynb.\n",
      "Converted 01_architecture.ipynb.\n",
      "Converted 02_utils.ipynb.\n",
      "Converted 03_parameters.ipynb.\n",
      "Converted 04_train_loop.ipynb.\n",
      "Converted 05_abstract_model.ipynb.\n",
      "Converted 10_diagnosis.ipynb.\n",
      "Converted 20_dcgan.ipynb.\n",
      "Converted 21_introvae.ipynb.\n",
      "Converted 22_vqvae.ipynb.\n",
      "Converted 23_bigan.ipynb.\n",
      "Converted 24_mocoae.ipynb.\n",
      "Converted 33_rnn_vae.ipynb.\n",
      "Converted 99_index.ipynb.\n"
     ]
    }
   ],
   "source": [
    "# hide\n",
    "from nbdev.export import *\n",
    "\n",
    "notebook2script()"
   ]
  },
  {
   "cell_type": "code",
   "execution_count": null,
   "metadata": {},
   "outputs": [],
   "source": []
  },
  {
   "cell_type": "code",
   "execution_count": null,
   "metadata": {},
   "outputs": [],
   "source": []
  }
 ],
 "metadata": {
  "kernelspec": {
   "display_name": "Python 3",
   "language": "python",
   "name": "python3"
  },
  "language_info": {
   "codemirror_mode": {
    "name": "ipython",
    "version": 3
   },
   "file_extension": ".py",
   "mimetype": "text/x-python",
   "name": "python",
   "nbconvert_exporter": "python",
   "pygments_lexer": "ipython3",
   "version": "3.7.7"
  }
 },
 "nbformat": 4,
 "nbformat_minor": 4
}
