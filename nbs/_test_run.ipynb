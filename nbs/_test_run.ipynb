{
 "cells": [
  {
   "cell_type": "code",
   "execution_count": null,
   "metadata": {},
   "outputs": [],
   "source": [
    "from deeptool.train_loop import get_model, test_one_batch, main_loop\n",
    "from deeptool.parameters import get_all_args, compat_args"
   ]
  },
  {
   "cell_type": "code",
   "execution_count": null,
   "metadata": {},
   "outputs": [],
   "source": [
    "args = get_all_args()\n",
    "args.dim = 2\n",
    "args.n_res2d = 1\n",
    "args.batch_size = 16\n",
    "args.perspectives = [\"coronal\"]\n",
    "args.watch_batch = 50\n",
    "\n",
    "args.model_type = \"bigan\"\n",
    "args.n_epochs = 1000\n",
    "args = compat_args(args)"
   ]
  },
  {
   "cell_type": "code",
   "execution_count": null,
   "metadata": {},
   "outputs": [
    {
     "name": "stdout",
     "output_type": "stream",
     "text": [
      "bigan\n",
      "<class 'deeptool.model.bigan.BiGAN'>\n"
     ]
    },
    {
     "name": "stderr",
     "output_type": "stream",
     "text": [
      "\r",
      "  0%|          | 0/71 [00:00<?, ?it/s]"
     ]
    },
    {
     "name": "stdout",
     "output_type": "stream",
     "text": [
      "Input dimension:\n",
      "torch.Size([16, 1, 256, 256])\n",
      "tensor(-1.1681)\n",
      "tensor(3.9596)\n",
      "Start training\n"
     ]
    },
    {
     "name": "stderr",
     "output_type": "stream",
     "text": [
      "100%|██████████| 71/71 [01:20<00:00,  1.13s/it]\n",
      "100%|██████████| 71/71 [01:15<00:00,  1.06s/it]\n",
      "100%|██████████| 71/71 [01:16<00:00,  1.08s/it]\n",
      "100%|██████████| 71/71 [01:16<00:00,  1.08s/it]\n",
      "100%|██████████| 71/71 [01:17<00:00,  1.09s/it]\n",
      "100%|██████████| 71/71 [01:15<00:00,  1.06s/it]\n",
      "100%|██████████| 71/71 [01:20<00:00,  1.13s/it]\n",
      " 73%|███████▎  | 52/71 [00:57<00:20,  1.10s/it]"
     ]
    }
   ],
   "source": [
    "main_loop(args)"
   ]
  },
  {
   "cell_type": "code",
   "execution_count": null,
   "metadata": {},
   "outputs": [],
   "source": []
  }
 ],
 "metadata": {
  "kernelspec": {
   "display_name": "'Python Interactive'",
   "language": "python",
   "name": "82fdadc0-b84a-48d1-9b8e-d8a208951284"
  }
 },
 "nbformat": 4,
 "nbformat_minor": 4
}
