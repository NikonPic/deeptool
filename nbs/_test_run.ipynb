{
 "cells": [
  {
   "cell_type": "code",
   "execution_count": null,
   "metadata": {},
   "outputs": [],
   "source": [
    "from deeptool.train_loop import get_model, test_one_batch, main_loop\n",
    "from deeptool.parameters import get_all_args, compat_args"
   ]
  },
  {
   "cell_type": "code",
   "execution_count": null,
   "metadata": {},
   "outputs": [],
   "source": [
    "args = get_all_args()\n",
    "args.dim = 3\n",
    "args.n_res2d = 1\n",
    "args.batch_size = 1\n",
    "args.perspectives = [\"coronal\"]\n",
    "args.watch_batch = 50\n",
    "\n",
    "args.model_type = \"rnnvae\"\n",
    "args.rnn_type = \"bigan\"\n",
    "args.n_epochs = 1000\n",
    "args = compat_args(args)"
   ]
  },
  {
   "cell_type": "code",
   "execution_count": null,
   "metadata": {},
   "outputs": [
    {
     "name": "stdout",
     "output_type": "stream",
     "text": [
      "rnnvae\n",
      "bigan\n"
     ]
    },
    {
     "name": "stderr",
     "output_type": "stream",
     "text": [
      "\r",
      "  0%|          | 0/1130 [00:00<?, ?it/s]"
     ]
    },
    {
     "name": "stdout",
     "output_type": "stream",
     "text": [
      "Input dimension:\n",
      "torch.Size([1, 1, 16, 256, 256])\n",
      "tensor(-1.1681)\n",
      "tensor(3.9596)\n",
      "Start training\n"
     ]
    },
    {
     "name": "stderr",
     "output_type": "stream",
     "text": [
      "100%|██████████| 1130/1130 [13:16<00:00,  1.42it/s]\n",
      "100%|██████████| 1130/1130 [13:57<00:00,  1.35it/s]\n",
      "100%|██████████| 1130/1130 [13:19<00:00,  1.41it/s]\n",
      " 90%|█████████ | 1018/1130 [12:21<01:43,  1.08it/s]"
     ]
    }
   ],
   "source": [
    "main_loop(args)"
   ]
  },
  {
   "cell_type": "code",
   "execution_count": null,
   "metadata": {},
   "outputs": [],
   "source": []
  }
 ],
 "metadata": {
  "kernelspec": {
   "display_name": "'Python Interactive'",
   "language": "python",
   "name": "82fdadc0-b84a-48d1-9b8e-d8a208951284"
  }
 },
 "nbformat": 4,
 "nbformat_minor": 4
}
