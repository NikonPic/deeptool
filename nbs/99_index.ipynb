{
 "cells": [
  {
   "cell_type": "code",
   "execution_count": null,
   "metadata": {},
   "outputs": [],
   "source": [
    "# hide\n",
    "%load_ext autoreload\n",
    "%autoreload 2"
   ]
  },
  {
   "cell_type": "markdown",
   "metadata": {},
   "source": [
    "# deeptool\n",
    "\n",
    "> Tool for applying several deep learning methods on the MRNet dataset.\n",
    "\n",
    "<img src=\"../img/deeptool.png\" width = 500 />"
   ]
  },
  {
   "cell_type": "markdown",
   "metadata": {},
   "source": [
    "Current implementations:\n",
    "\n",
    "* DIAGNOSIS (MRNet based)\n",
    "\n",
    "* DCGAN\n",
    "* VQVAE - VQVAE2\n",
    "* INTROVAE\n",
    "\n"
   ]
  },
  {
   "cell_type": "markdown",
   "metadata": {},
   "source": [
    "## Install - not yet available"
   ]
  },
  {
   "cell_type": "markdown",
   "metadata": {},
   "source": [
    "Later this will simply be:\n",
    "\n",
    "`pip install deeptool`\n",
    "\n",
    "For now the source code needs to be downloaded.\n",
    "Then navigation to the downloaded folder is required and the package can be installed with:\n",
    "\n",
    "`pip install -e .`"
   ]
  },
  {
   "cell_type": "markdown",
   "metadata": {},
   "source": [
    "## How to use"
   ]
  },
  {
   "cell_type": "markdown",
   "metadata": {},
   "source": [
    "### 1. Import the library and some functionality"
   ]
  },
  {
   "cell_type": "code",
   "execution_count": null,
   "metadata": {},
   "outputs": [],
   "source": [
    "from deeptool.train_loop import get_model, test_one_batch, main_loop\n",
    "from deeptool.parameters import get_all_args, compat_args"
   ]
  },
  {
   "cell_type": "markdown",
   "metadata": {},
   "source": [
    "### 2. Adjust the arguments for training for your needs (check 03-parameters)\n",
    "Example:"
   ]
  },
  {
   "cell_type": "code",
   "execution_count": null,
   "metadata": {},
   "outputs": [],
   "source": [
    "# Define Arguments (Example)\n",
    "args = get_all_args()\n",
    "args.dim = 2 # Dimension of network reduced to 2\n",
    "args.batch_size = 1\n",
    "args.perspectives = [\"coronal\"] # View only the coronal planes\n",
    "args.n_res_2d = 1 # architecture contains resnet blocks\n",
    "args.watch_batch = 100 # visualize every 100 batches\n",
    "args.model_type = \"introvae\" # train the introvae model\n",
    "args = compat_args(args)"
   ]
  },
  {
   "cell_type": "markdown",
   "metadata": {},
   "source": [
    "### 3. Train the model"
   ]
  },
  {
   "cell_type": "code",
   "execution_count": null,
   "metadata": {},
   "outputs": [],
   "source": [
    "# main_loop(args)"
   ]
  },
  {
   "cell_type": "code",
   "execution_count": null,
   "metadata": {},
   "outputs": [
    {
     "name": "stdout",
     "output_type": "stream",
     "text": [
      "Converted 00_dataload.ipynb.\n",
      "Converted 01_arch.ipynb.\n",
      "Converted 99_index.ipynb.\n"
     ]
    }
   ],
   "source": [
    "# hide\n",
    "from nbdev.export import *\n",
    "notebook2script()"
   ]
  }
 ],
 "metadata": {
  "kernelspec": {
   "display_name": "Python 3",
   "language": "python",
   "name": "python3"
  }
 },
 "nbformat": 4,
 "nbformat_minor": 2
}
