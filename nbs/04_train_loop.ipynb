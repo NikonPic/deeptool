{
 "cells": [
  {
   "cell_type": "code",
   "execution_count": null,
   "metadata": {},
   "outputs": [],
   "source": [
    "# default_exp train_loop"
   ]
  },
  {
   "cell_type": "code",
   "execution_count": null,
   "metadata": {},
   "outputs": [],
   "source": [
    "# hide\n",
    "%load_ext autoreload\n",
    "%autoreload 2"
   ]
  },
  {
   "cell_type": "code",
   "execution_count": null,
   "metadata": {},
   "outputs": [],
   "source": [
    "# hide\n",
    "from fastcore.test import *"
   ]
  },
  {
   "cell_type": "markdown",
   "metadata": {},
   "source": [
    "# Training Loop\n",
    "\n",
    "> Define the general Training Loop"
   ]
  },
  {
   "cell_type": "code",
   "execution_count": null,
   "metadata": {},
   "outputs": [],
   "source": [
    "# export\n",
    "\n",
    "# general\n",
    "import torch\n",
    "from tqdm import tqdm, tqdm_notebook\n",
    "\n",
    "# import the relevant models\n",
    "from deeptool.model.dcgan import DCGAN\n",
    "from deeptool.model.diagnosis import TripleMRNet\n",
    "from deeptool.model.vqvae import VQVAE2\n",
    "from deeptool.model.introvae import IntroVAE\n",
    "from deeptool.model.bigan import BiGAN\n",
    "from deeptool.model.rnnvae import Creator_RNN_AE\n",
    "\n",
    "# import the dataset\n",
    "from deeptool.dataloader import load_datasets, load_test_batch\n",
    "\n",
    "# import the parameters\n",
    "from deeptool.parameters import get_all_args, compat_args"
   ]
  },
  {
   "cell_type": "code",
   "execution_count": null,
   "metadata": {},
   "outputs": [],
   "source": [
    "# export\n",
    "\n",
    "\n",
    "def get_model(device, args):\n",
    "    \"\"\"\n",
    "    return the required model depending on the arguments:\n",
    "    \"\"\"\n",
    "    print(args.model_type)\n",
    "    switcher = {\n",
    "        \"dcgan\": DCGAN,\n",
    "        \"diagnosis\": TripleMRNet,\n",
    "        \"vqvae\": VQVAE2,\n",
    "        \"introvae\": IntroVAE,\n",
    "        \"rnnvae\": Creator_RNN_AE,\n",
    "        \"bigan\": BiGAN,\n",
    "    }\n",
    "    # Get the model_creator\n",
    "    model_creator = switcher.get(args.model_type, lambda: \"Invalid Model Type\")\n",
    "    # create model\n",
    "    return model_creator(device, args)"
   ]
  },
  {
   "cell_type": "code",
   "execution_count": null,
   "metadata": {},
   "outputs": [
    {
     "name": "stdout",
     "output_type": "stream",
     "text": "bigan\n"
    }
   ],
   "source": [
    "# test model creation\n",
    "args = get_all_args()\n",
    "args.track = False\n",
    "args.model_type = \"bigan\"\n",
    "device = torch.device(\"cuda:0\" if (\n",
    "    torch.cuda.is_available() and args.n_gpu > 0) else \"cpu\")\n",
    "model = get_model(device, args)"
   ]
  },
  {
   "cell_type": "code",
   "execution_count": null,
   "metadata": {},
   "outputs": [],
   "source": [
    "# export\n",
    "\n",
    "\n",
    "def test_one_batch(args):\n",
    "    \"\"\"\n",
    "    Useful functionality to test a new model using a demo databatch and check compatibility\n",
    "    \"\"\"\n",
    "    args.track = False\n",
    "    # define calculating device\n",
    "    device = torch.device(\"cuda:0\" if (\n",
    "        torch.cuda.is_available() and args.n_gpu > 0) else \"cpu\")\n",
    "    # avoid dataloaders for testing on server:\n",
    "    batch = load_test_batch(args)\n",
    "    # Initialise the Model\n",
    "    model = get_model(device, args)\n",
    "    # switch to train mode\n",
    "    model.train()\n",
    "    # evaluate batch\n",
    "    model(batch)"
   ]
  },
  {
   "cell_type": "code",
   "execution_count": null,
   "metadata": {},
   "outputs": [],
   "source": [
    "# export\n",
    "\n",
    "\n",
    "def main_loop(args, tq_nb = True):\n",
    "    \"\"\"Perform the Training using the predefined arguments\"\"\"\n",
    "    \n",
    "    # select tqdm_type\n",
    "    tq = tqdm\n",
    "    if tq_nb:\n",
    "        tq = tqdm_notebook\n",
    "\n",
    "    # define calculating device\n",
    "    device = torch.device(\"cuda:0\" if (\n",
    "        torch.cuda.is_available() and args.n_gpu > 0) else \"cpu\")\n",
    "\n",
    "    # build the dataloaders\n",
    "    train_data, _, train_loader, valid_loader = load_datasets(\n",
    "        args)\n",
    "\n",
    "    # Initialise the Model\n",
    "    model = get_model(device, args)\n",
    "\n",
    "    # Load pretrained params\n",
    "    if args.load_model:\n",
    "        model.load_state_dict(torch.load(args.model_path))\n",
    "\n",
    "    # test dataset\n",
    "    test_data = next(iter(valid_loader))\n",
    "    print(\"Input dimension:\")\n",
    "\n",
    "    if args.model_type == \"diagnosis\":\n",
    "        print(test_data[\"img\"][args.perspectives[0]].shape)\n",
    "        print(torch.min(test_data[\"img\"][args.perspectives[0]]))\n",
    "        print(torch.max(test_data[\"img\"][args.perspectives[0]]))\n",
    "    else:\n",
    "        print(test_data[\"img\"].shape)\n",
    "        print(torch.min(test_data[\"img\"]))\n",
    "        print(torch.max(test_data[\"img\"]))\n",
    "\n",
    "    # start training\n",
    "    print(\"Start training\")\n",
    "    batch_count = 0\n",
    "    model.train()\n",
    "\n",
    "    for epoch in tq(range(args.n_epochs)):\n",
    "\n",
    "        # remodify after pretraining training\n",
    "        if epoch == args.n_pretrain and args.model_type in (\"vqvae\", \"introvae\"):\n",
    "            print(\"parameters set\")\n",
    "            model.set_parameters(args)\n",
    "\n",
    "        # For each batch in the dataloader\n",
    "        for data in tq(train_loader):\n",
    "            # perform training\n",
    "            model(data)\n",
    "\n",
    "            if batch_count % args.watch_batch == 0:\n",
    "                # eval status\n",
    "                model.eval()\n",
    "\n",
    "                if args.model_type in (\"triplenet\", \"diagnosis\"):\n",
    "                    model.watch_progress(valid_loader, epoch)\n",
    "                else:\n",
    "                    model.watch_progress(test_data, epoch)\n",
    "\n",
    "                # reset to train status again\n",
    "                model.train()\n",
    "\n",
    "            # watch progress\n",
    "            batch_count += 1"
   ]
  },
  {
   "cell_type": "code",
   "execution_count": null,
   "metadata": {},
   "outputs": [
    {
     "name": "stdout",
     "output_type": "stream",
     "text": "Converted 00_dataloader.ipynb.\nConverted 01_architecture.ipynb.\nConverted 02_utils.ipynb.\nConverted 03_parameters.ipynb.\nConverted 04_train_loop.ipynb.\nConverted 10_diagnosis.ipynb.\nConverted 20_dcgan.ipynb.\nConverted 21_introvae.ipynb.\nConverted 22_vqvae.ipynb.\nConverted 23_bigan.ipynb.\nConverted 33_rnn_vae.ipynb.\nConverted 99_index.ipynb.\n"
    }
   ],
   "source": [
    "# hide\n",
    "from nbdev.export import *\n",
    "notebook2script()"
   ]
  },
  {
   "cell_type": "code",
   "execution_count": null,
   "metadata": {},
   "outputs": [],
   "source": []
  }
 ],
 "metadata": {
  "kernelspec": {
   "display_name": "Python 3",
   "language": "python",
   "name": "python3"
  }
 },
 "nbformat": 4,
 "nbformat_minor": 2
}
