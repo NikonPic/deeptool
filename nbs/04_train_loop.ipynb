{
 "cells": [
  {
   "cell_type": "code",
   "execution_count": null,
   "metadata": {},
   "outputs": [],
   "source": [
    "# default_exp train_loop"
   ]
  },
  {
   "cell_type": "code",
   "execution_count": null,
   "metadata": {},
   "outputs": [
    {
     "name": "stdout",
     "output_type": "stream",
     "text": [
      "The autoreload extension is already loaded. To reload it, use:\n",
      "  %reload_ext autoreload\n"
     ]
    }
   ],
   "source": [
    "# hide\n",
    "%load_ext autoreload\n",
    "%autoreload 2"
   ]
  },
  {
   "cell_type": "code",
   "execution_count": null,
   "metadata": {},
   "outputs": [],
   "source": [
    "# hide\n",
    "from fastcore.test import *"
   ]
  },
  {
   "cell_type": "markdown",
   "metadata": {},
   "source": [
    "# Training Loop\n",
    "\n",
    "> Define the general Training Loop"
   ]
  },
  {
   "cell_type": "code",
   "execution_count": null,
   "metadata": {},
   "outputs": [],
   "source": [
    "# export\n",
    "\n",
    "# general\n",
    "import torch\n",
    "from tqdm import tqdm, tqdm_notebook\n",
    "\n",
    "# import the relevant models\n",
    "from deeptool.model.dcgan import DCGAN\n",
    "from deeptool.model.diagnosis import TripleMRNet\n",
    "from deeptool.model.vqvae import VQVAE2\n",
    "from deeptool.model.introvae import IntroVAE\n",
    "from deeptool.model.bigan import BiGAN\n",
    "from deeptool.model.rnnvae import Creator_RNN_AE\n",
    "from deeptool.model.mocoae import MoCoAE\n",
    "\n",
    "# import the dataset\n",
    "from deeptool.dataloader import (\n",
    "    load_test_batch,\n",
    "    load_kneexray_datasets,\n",
    "    load_mrnet_datasets,\n",
    ")\n",
    "\n",
    "# import the parameters\n",
    "from deeptool.parameters import get_all_args, compat_args"
   ]
  },
  {
   "cell_type": "code",
   "execution_count": null,
   "metadata": {},
   "outputs": [],
   "source": [
    "# export\n",
    "\n",
    "\n",
    "def get_model(device, args):\n",
    "    \"\"\"\n",
    "    return the required model depending on the arguments:\n",
    "    \"\"\"\n",
    "    print(f\"Model-Type: {args.model_type}\")\n",
    "    switcher = {\n",
    "        \"dcgan\": DCGAN,\n",
    "        \"diagnosis\": TripleMRNet,\n",
    "        \"vqvae\": VQVAE2,\n",
    "        \"introvae\": IntroVAE,\n",
    "        \"rnnvae\": Creator_RNN_AE,\n",
    "        \"bigan\": BiGAN,\n",
    "        \"mocoae\": MoCoAE,\n",
    "    }\n",
    "    # Get the model_creator\n",
    "    model_creator = switcher.get(args.model_type, lambda: \"Invalid Model Type\")\n",
    "    # create model\n",
    "    return model_creator(device, args)"
   ]
  },
  {
   "cell_type": "code",
   "execution_count": null,
   "metadata": {},
   "outputs": [],
   "source": [
    "# export\n",
    "\n",
    "\n",
    "def get_dataset(args):\n",
    "    \"\"\"\n",
    "    return the required datasets and dataloaders depending on the dataset\n",
    "    \"\"\"\n",
    "    print(f\"Dataset-Type: {args.dataset_type}\")\n",
    "    switcher = {\n",
    "        \"MRNet\": load_mrnet_datasets,\n",
    "        \"KneeXray\": load_kneexray_datasets,\n",
    "    }\n",
    "    # Get the model_creator\n",
    "    dataset_loader = switcher.get(args.dataset_type, lambda: \"Invalid Model Type\")\n",
    "    # create model\n",
    "    return dataset_loader(args)"
   ]
  },
  {
   "cell_type": "code",
   "execution_count": null,
   "metadata": {},
   "outputs": [
    {
     "name": "stdout",
     "output_type": "stream",
     "text": [
      "Model-Type: bigan\n"
     ]
    }
   ],
   "source": [
    "# test model creation\n",
    "args = get_all_args()\n",
    "args.track = False\n",
    "args.model_type = \"bigan\"\n",
    "device = torch.device(\n",
    "    \"cuda:0\" if (torch.cuda.is_available() and args.n_gpu > 0) else \"cpu\"\n",
    ")\n",
    "model = get_model(device, args)"
   ]
  },
  {
   "cell_type": "code",
   "execution_count": null,
   "metadata": {},
   "outputs": [],
   "source": [
    "# export\n",
    "\n",
    "\n",
    "def test_one_batch(args):\n",
    "    \"\"\"\n",
    "    Useful functionality to test a new model using a demo databatch and check compatibility\n",
    "    \"\"\"\n",
    "    args.track = False\n",
    "    # define calculating device\n",
    "    device = torch.device(\n",
    "        \"cuda:0\" if (torch.cuda.is_available() and args.n_gpu > 0) else \"cpu\"\n",
    "    )\n",
    "    # avoid dataloaders for testing on server:\n",
    "    batch = load_test_batch(args)\n",
    "    # Initialise the Model\n",
    "    model = get_model(device, args)\n",
    "    # switch to train mode\n",
    "    model.train()\n",
    "    # evaluate batch\n",
    "    model(batch)"
   ]
  },
  {
   "cell_type": "code",
   "execution_count": null,
   "metadata": {},
   "outputs": [],
   "source": [
    "# export\n",
    "\n",
    "\n",
    "def batch_info(test_x, args):\n",
    "    if args.model_type == \"diagnosis\":\n",
    "        print(test_x[args.perspectives[0]].shape)\n",
    "        print(torch.min(test_x[args.perspectives[0]]))\n",
    "        print(torch.max(test_x[args.perspectives[0]]))\n",
    "    else:\n",
    "        print(f\"Input Dimension: {test_x.shape}\")\n",
    "        print(f\"Minimum Value in Batch: {torch.min(test_x)}\")\n",
    "        print(f\"Maximum Value in Batch: {torch.max(test_x)}\")"
   ]
  },
  {
   "cell_type": "code",
   "execution_count": null,
   "metadata": {},
   "outputs": [],
   "source": [
    "# export\n",
    "\n",
    "\n",
    "def main_loop(args, tq_nb=True):\n",
    "    \"\"\"Perform the Training using the predefined arguments\"\"\"\n",
    "\n",
    "    # select tqdm_type\n",
    "    tq = tqdm\n",
    "    if tq_nb:\n",
    "        tq = tqdm_notebook\n",
    "\n",
    "    # define calculating device\n",
    "    device = torch.device(\n",
    "        \"cuda:0\" if (torch.cuda.is_available() and args.n_gpu > 0) else \"cpu\"\n",
    "    )\n",
    "\n",
    "    # build the dataloaders\n",
    "    train_data, _, train_loader, valid_loader = get_dataset(args)\n",
    "\n",
    "    # Initialise the Model\n",
    "    model = get_model(device, args)\n",
    "\n",
    "    # test dataset\n",
    "    test_data = next(iter(train_loader))\n",
    "    test_x = model.prep(test_data)\n",
    "    \n",
    "    batch_info(test_x, args)\n",
    "\n",
    "    # Load pretrained params\n",
    "    if args.load_model:\n",
    "        model.load_state_dict(torch.load(args.model_path))\n",
    "\n",
    "    # start training\n",
    "    print(\"\\nStart training\")\n",
    "    batch_count = 0\n",
    "    model.train()\n",
    "\n",
    "    for epoch in tq(range(args.n_epochs)):\n",
    "\n",
    "        # remodify after pretraining training\n",
    "        if epoch == args.n_pretrain and args.model_type in (\"vqvae\", \"introvae\"):\n",
    "            print(\"parameters set\")\n",
    "            model.set_parameters(args)\n",
    "\n",
    "        # For each batch in the dataloader\n",
    "        for data in tq(train_loader):\n",
    "            # perform training\n",
    "            model(data)\n",
    "\n",
    "            if batch_count % args.watch_batch == 0:\n",
    "                # eval status\n",
    "                model.eval()\n",
    "\n",
    "                if args.model_type in (\"triplenet\", \"diagnosis\"):\n",
    "                    model.watch_progress(valid_loader, epoch)\n",
    "                else:\n",
    "                    model.watch_progress(test_data, epoch)\n",
    "\n",
    "                # reset to train status again\n",
    "                model.train()\n",
    "\n",
    "            # watch progress\n",
    "            batch_count += 1"
   ]
  },
  {
   "cell_type": "code",
   "execution_count": null,
   "metadata": {},
   "outputs": [
    {
     "name": "stdout",
     "output_type": "stream",
     "text": [
      "Converted 00_dataloader.ipynb.\n",
      "Converted 01_architecture.ipynb.\n",
      "Converted 02_utils.ipynb.\n",
      "Converted 03_parameters.ipynb.\n",
      "Converted 04_train_loop.ipynb.\n",
      "Converted 05_abstract_model.ipynb.\n",
      "Converted 10_diagnosis.ipynb.\n",
      "Converted 20_dcgan.ipynb.\n",
      "Converted 21_introvae.ipynb.\n",
      "Converted 22_vqvae.ipynb.\n",
      "Converted 23_bigan.ipynb.\n",
      "Converted 24_mocoae.ipynb.\n",
      "Converted 33_rnn_vae.ipynb.\n",
      "Converted 99_index.ipynb.\n"
     ]
    }
   ],
   "source": [
    "# hide\n",
    "from nbdev.export import *\n",
    "\n",
    "notebook2script()"
   ]
  },
  {
   "cell_type": "code",
   "execution_count": null,
   "metadata": {},
   "outputs": [],
   "source": []
  },
  {
   "cell_type": "code",
   "execution_count": null,
   "metadata": {},
   "outputs": [],
   "source": []
  }
 ],
 "metadata": {
  "kernelspec": {
   "display_name": "Python 3",
   "language": "python",
   "name": "python3"
  }
 },
 "nbformat": 4,
 "nbformat_minor": 4
}
