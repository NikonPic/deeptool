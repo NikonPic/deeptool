{
 "cells": [
  {
   "cell_type": "code",
   "execution_count": null,
   "metadata": {},
   "outputs": [],
   "source": [
    "# default_exp train_loop"
   ]
  },
  {
   "cell_type": "code",
   "execution_count": null,
   "metadata": {},
   "outputs": [
    {
     "name": "stdout",
     "output_type": "stream",
     "text": [
      "The autoreload extension is already loaded. To reload it, use:\n",
      "  %reload_ext autoreload\n"
     ]
    }
   ],
   "source": [
    "# hide\n",
    "%load_ext autoreload\n",
    "%autoreload 2"
   ]
  },
  {
   "cell_type": "code",
   "execution_count": null,
   "metadata": {},
   "outputs": [],
   "source": [
    "# hide\n",
    "from fastcore.test import *"
   ]
  },
  {
   "cell_type": "markdown",
   "metadata": {},
   "source": [
    "# Training Loop\n",
    "\n",
    "> Define the general Training Loop"
   ]
  },
  {
   "cell_type": "code",
   "execution_count": null,
   "metadata": {},
   "outputs": [],
   "source": [
    "# export \n",
    "\n",
    "# general\n",
    "import torch\n",
    "from tqdm import tqdm\n",
    "\n",
    "# import the relevant models\n",
    "from deeptool.model.dcgan import DCGAN\n",
    "from deeptool.model.diagnosis import TripleMRNet\n",
    "from deeptool.model.vqvae import VQVAE2\n",
    "from deeptool.model.introvae import IntroVAE\n",
    "from deeptool.model.rnnvae import *\n",
    "\n",
    "# import the dataset\n",
    "from deeptool.dataloader import load_datasets\n",
    "\n",
    "# import the parameters\n",
    "from deeptool.parameters import get_all_args"
   ]
  },
  {
   "cell_type": "code",
   "execution_count": null,
   "metadata": {},
   "outputs": [],
   "source": [
    "# export\n",
    "\n",
    "def get_model(device, args):\n",
    "    \"\"\"\n",
    "    return the required model depending on the arguments:\n",
    "    \"\"\"\n",
    "    switcher = {\n",
    "        \"dcgan\": DCGAN,\n",
    "        \"diagnosis\": TripleMRNet,\n",
    "        \"vqvae\": VQVAE2,\n",
    "        \"introvae\": IntroVAE,\n",
    "        # ToDO\n",
    "    }\n",
    "    # Get the model_creator\n",
    "    model_creater = switcher.get(args.model_type, lambda: \"Invalid Model Type\")\n",
    "    # create model\n",
    "    return model_creater(device, args)"
   ]
  },
  {
   "cell_type": "code",
   "execution_count": null,
   "metadata": {},
   "outputs": [],
   "source": [
    "args = get_all_args()\n",
    "device = torch.device(\"cuda:0\" if (torch.cuda.is_available() and args.n_gpu > 0) else \"cpu\")\n",
    "model = get_model(device, args)"
   ]
  },
  {
   "cell_type": "code",
   "execution_count": null,
   "metadata": {},
   "outputs": [],
   "source": [
    "# export\n",
    "\n",
    "def test_dataset(args, valid_loader):\n",
    "    \"\"\"\n",
    "    return the required model depending on the arguments:\n",
    "    \"\"\"\n",
    "    test_data = next(iter(valid_loader))\n",
    "    print(\"Input dimension:\")\n",
    "\n",
    "    if args.model_type == \"triplenet\":\n",
    "        print(test_data[\"img\"][args.perspectives[0]].shape)\n",
    "        print(torch.min(test_data[\"img\"][args.perspectives[0]]))\n",
    "        print(torch.max(test_data[\"img\"][args.perspectives[0]]))\n",
    "    else:\n",
    "        print(test_data[\"img\"].shape)\n",
    "        print(torch.min(test_data[\"img\"]))\n",
    "        print(torch.max(test_data[\"img\"]))"
   ]
  },
  {
   "cell_type": "code",
   "execution_count": null,
   "metadata": {},
   "outputs": [],
   "source": [
    "# export\n",
    "\n",
    "def main(args):\n",
    "    \"\"\"Perform the Training using the predefined arguments\"\"\"\n",
    "\n",
    "    # define calculating device\n",
    "    device = torch.device(\"cuda:0\" if (\n",
    "        torch.cuda.is_available() and args.n_gpu > 0) else \"cpu\")\n",
    "\n",
    "    # build the dataloaders\n",
    "    train_data, _, train_loader, valid_loader = load_datasets(\n",
    "        args)\n",
    "\n",
    "    # test dataset\n",
    "    test_dataset(args, valid_loader)\n",
    "\n",
    "    # Initialise the Model\n",
    "    model = get_model(device, args)\n",
    "\n",
    "    # Load pretrained params\n",
    "    if args.load_model:\n",
    "        model.load_state_dict(torch.load(args.model_path))\n",
    "\n",
    "    # start training\n",
    "    print(\"Start training\")\n",
    "    batch_count = 0\n",
    "    model.train()\n",
    "\n",
    "    for epoch in range(args.n_epochs):\n",
    "\n",
    "        # remodify after pretraining training\n",
    "        if epoch == args.n_pretrain and args.model_type in (\"vqvae\", \"introvae\"):\n",
    "            print(\"parameters set\")\n",
    "            model.set_parameters(args)\n",
    "\n",
    "        # For each batch in the dataloader\n",
    "        for data in tqdm(train_loader):\n",
    "            # perform training\n",
    "            model(data)\n",
    "\n",
    "            if batch_count % args.watch_batch == 0:\n",
    "                # eval status\n",
    "                model.eval()\n",
    "\n",
    "                if args.model_type in (\"triplenet\", \"diagnosis\"):\n",
    "                    model.watch_progress(valid_loader, epoch)\n",
    "                else:\n",
    "                    model.watch_progress(test_data, epoch)\n",
    "\n",
    "                # reset to train status again\n",
    "                model.train()\n",
    "\n",
    "            # watch progress\n",
    "            batch_count += 1"
   ]
  },
  {
   "cell_type": "code",
   "execution_count": null,
   "metadata": {},
   "outputs": [
    {
     "name": "stdout",
     "output_type": "stream",
     "text": [
      "Converted 00_dataloader.ipynb.\n",
      "Converted 01_architecture.ipynb.\n",
      "Converted 02_utils.ipynb.\n",
      "Converted 03_parameters.ipynb.\n",
      "Converted 04_train_loop.ipynb.\n",
      "Converted 10_diagnosis.ipynb.\n",
      "Converted 20_dcgan.ipynb.\n",
      "Converted 21_introvae.ipynb.\n",
      "Converted 22_vqvae.ipynb.\n",
      "Converted 23_rnn_vae.ipynb.\n",
      "Converted 99_index.ipynb.\n"
     ]
    }
   ],
   "source": [
    "# hide\n",
    "from nbdev.export import *\n",
    "notebook2script()"
   ]
  },
  {
   "cell_type": "code",
   "execution_count": null,
   "metadata": {},
   "outputs": [],
   "source": []
  }
 ],
 "metadata": {
  "kernelspec": {
   "display_name": "'Python Interactive'",
   "language": "python",
   "name": "82fdadc0-b84a-48d1-9b8e-d8a208951284"
  }
 },
 "nbformat": 4,
 "nbformat_minor": 2
}
