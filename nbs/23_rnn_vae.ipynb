{
 "cells": [
  {
   "cell_type": "code",
   "execution_count": null,
   "metadata": {},
   "outputs": [],
   "source": [
    "# default_exp model.rnnvae"
   ]
  },
  {
   "cell_type": "code",
   "execution_count": null,
   "metadata": {},
   "outputs": [],
   "source": [
    "# hide\n",
    "%load_ext autoreload\n",
    "%autoreload 2"
   ]
  },
  {
   "cell_type": "code",
   "execution_count": null,
   "metadata": {},
   "outputs": [],
   "source": [
    "# export\n",
    "\n",
    "import torch\n",
    "from torch import nn, optim\n",
    "from deeptool.architecture import Encoder, Decoder, DownUpConv\n",
    "from deeptool.utils import Tracker"
   ]
  },
  {
   "cell_type": "markdown",
   "metadata": {},
   "source": [
    "# RNN VAE\n",
    "\n",
    "> Structure for an Approach maintained a pseudo space realtion\n",
    "\n"
   ]
  },
  {
   "cell_type": "code",
   "execution_count": null,
   "metadata": {},
   "outputs": [
    {
     "data": {
      "text/plain": [
       "torch.Size([1, 3, 16, 256, 256])"
      ]
     },
     "execution_count": null,
     "metadata": {},
     "output_type": "execute_result"
    }
   ],
   "source": [
    "# load some test dataset to confirm architecture:\n",
    "from deeptool.parameters import get_all_args\n",
    "from deeptool.dataloader import load_test_batch\n",
    "args = get_all_args()\n",
    "args.model_type = \"rnnvae\"\n",
    "args.batch_size = 1\n",
    "args.track = False\n",
    "batch = load_test_batch(args)\n",
    "batch[\"img\"].shape"
   ]
  },
  {
   "cell_type": "code",
   "execution_count": null,
   "metadata": {},
   "outputs": [],
   "source": [
    "# export\n",
    "\n",
    "\n",
    "def mod_batch(batch, key=\"img\"):\n",
    "    \"\"\"\n",
    "    transform the batch to be compatible with the network by permuting\n",
    "    \"\"\"\n",
    "    if len(batch[key].shape) > 4:\n",
    "        batch[key] = batch[key][0, :, :, :, :]\n",
    "        batch[key] = batch[key].permute(1, 0, 2, 3)\n",
    "    return batch"
   ]
  },
  {
   "cell_type": "code",
   "execution_count": null,
   "metadata": {},
   "outputs": [
    {
     "data": {
      "text/plain": [
       "torch.Size([16, 3, 256, 256])"
      ]
     },
     "execution_count": null,
     "metadata": {},
     "output_type": "execute_result"
    }
   ],
   "source": [
    "batchmod = mod_batch(batch)\n",
    "batchmod[\"img\"].shape"
   ]
  },
  {
   "cell_type": "code",
   "execution_count": null,
   "metadata": {},
   "outputs": [],
   "source": [
    "# export\n",
    "\n",
    "\n",
    "class RNN_AE(nn.Module):\n",
    "\n",
    "    def __init__(self, device, args):\n",
    "        \"\"\"\n",
    "        The recurrent autoencoder for compressing 3d data.\n",
    "        It compresses in 2d while (hopefully) maintaining the spatial relation between layers\n",
    "        \"\"\"\n",
    "        super(RNN_AE, self).__init__()\n",
    "        self.device = device\n",
    "\n",
    "        # 1. create the convolutional Encoder\n",
    "        args.dim = 2\n",
    "        self.conv_part_enc = DownUpConv(args, pic_size=args.pic_size, n_fea_in=len(\n",
    "            args.perspectives), n_fea_next=args.n_fea_up, depth=1).to(self.device)\n",
    "\n",
    "        # save important features\n",
    "        max_fea, min_size = self.conv_part_enc.max_fea, self.conv_part_enc.min_size\n",
    "        self.n_z, self.max_fea, self.min_size = args.n_z, max_fea, min_size\n",
    "\n",
    "        self.view_arr = [-1, max_fea * min_size**2]  # as flat vector\n",
    "        self.view_conv = [-1, max_fea, min_size, min_size]  # as conv block\n",
    "        self.view_track = [1, len(args.perspectives), -1,\n",
    "                           args.pic_size, args.pic_size]\n",
    "\n",
    "        # 2. Apply FC- Encoder Part\n",
    "        self.fc_part_enc = nn.Sequential(\n",
    "            nn.Linear(max_fea*min_size*min_size, max_fea*min_size),\n",
    "            nn.LeakyReLU(0.2, inplace=True),\n",
    "            nn.Linear(max_fea*min_size, max_fea),\n",
    "            nn.LeakyReLU(0.2, inplace=True),\n",
    "            nn.Linear(max_fea, args.n_z),\n",
    "        ).to(self.device)\n",
    "\n",
    "        # 3. Transition Layer: GRU\n",
    "        self.transition = nn.GRU(args.n_z, args.n_z, 1).to(self.device)\n",
    "\n",
    "        # 4. Apply FC-Decoder Part\n",
    "        self.fc_part_dec = nn.Sequential(\n",
    "            nn.Linear(args.n_z, max_fea),\n",
    "            nn.LeakyReLU(0.2, inplace=True),\n",
    "            nn.Linear(max_fea, max_fea*min_size),\n",
    "            nn.LeakyReLU(0.2, inplace=True),\n",
    "            nn.Linear(max_fea*min_size, max_fea*min_size*min_size),\n",
    "        ).to(self.device)\n",
    "\n",
    "        # 5. create the convolutional Decoder\n",
    "        self.conv_part_dec = DownUpConv(\n",
    "            args, pic_size=args.pic_size, n_fea_in=len(\n",
    "                args.perspectives), n_fea_next=args.n_fea_down, depth=1, move='up').to(self.device)\n",
    "\n",
    "        # the standard loss\n",
    "        self.mse_loss = nn.MSELoss(reduction='sum')\n",
    "\n",
    "        # the optimizer\n",
    "        self.optimizer = optim.Adam(self.parameters(), lr=args.lr)\n",
    "\n",
    "        # reset the dimension\n",
    "        args.dim = 3\n",
    "\n",
    "        # Setup the tracker to visualize the progress\n",
    "        if args.track:\n",
    "            self.tracker = Tracker(args)\n",
    "\n",
    "    def watch_progress(self, test_data, iteration):\n",
    "        \"\"\"Outsourced to Tracker\"\"\"\n",
    "        self.tracker.track_progress(self, test_data, iteration)\n",
    "\n",
    "    def rnn_transition(self, x):\n",
    "        \"\"\"\n",
    "        take the matrix of encoded input slices and apply the RNN part\n",
    "        \"\"\"\n",
    "        # reshape\n",
    "        x = x.reshape([-1, 1, self.n_z])\n",
    "        # apply GRU layer\n",
    "        x, _ = self.transition(x)\n",
    "        # reshape\n",
    "        x = x.reshape([-1, self.n_z])\n",
    "        return x\n",
    "\n",
    "    def encode(self, x):\n",
    "        x = self.conv_part_enc(x)\n",
    "        x = x.reshape(self.view_arr)\n",
    "        x = self.fc_part_enc(x)\n",
    "        return x\n",
    "\n",
    "    def decode(self, x):\n",
    "        x = self.fc_part_dec(x)\n",
    "        x = x.reshape(self.view_conv)\n",
    "        x = self.conv_part_dec(x)\n",
    "        return x\n",
    "    \n",
    "    def prep_input(self, batch):\n",
    "        self.zero_grad()\n",
    "        batch = mod_batch(batch)\n",
    "        img = batch['img'].to(self.device)\n",
    "        return img\n",
    "\n",
    "    def forward(self, batch, update=True):\n",
    "        \"\"\"\n",
    "        calculate the forward pass\n",
    "        \"\"\"\n",
    "        # prepare\n",
    "        img = self.prep_input(batch)\n",
    "        # encode:\n",
    "        x = self.encode(img)\n",
    "        # apply the GRU transition\n",
    "        x = self.rnn_transition(x)\n",
    "        # decode\n",
    "        x = self.decode(x)\n",
    "        # calc loss\n",
    "        loss = self.mse_loss(img, x)\n",
    "\n",
    "        if update:\n",
    "            loss.backward()\n",
    "            self.optimizer.step()\n",
    "            return x\n",
    "\n",
    "        else:\n",
    "            tr_data = {}\n",
    "            tr_data[\"loss\"] = loss.item()\n",
    "\n",
    "        return x, tr_data"
   ]
  },
  {
   "cell_type": "code",
   "execution_count": null,
   "metadata": {},
   "outputs": [],
   "source": [
    "# export\n",
    "\n",
    "\n",
    "class RNN_VAE(RNN_AE):\n",
    "    \"\"\"\n",
    "    inherit from RNN_AE and add the variational part\n",
    "    \"\"\"\n",
    "\n",
    "    def __init__(self, device, args):\n",
    "        #super(RNN_AE, self).__init__(device, args)\n",
    "        RNN_AE.__init__(self, device, args)\n",
    "        # 2. rewrite FC- Encoder Part\n",
    "        max_fea, min_size = self.max_fea, self.min_size\n",
    "        self.fc_part_enc = nn.Sequential(\n",
    "            nn.Linear(max_fea*min_size*min_size, max_fea*min_size),\n",
    "            nn.LeakyReLU(0.2, inplace=True),\n",
    "            nn.Linear(max_fea*min_size, max_fea),\n",
    "            nn.LeakyReLU(0.2, inplace=True),\n",
    "            nn.Linear(max_fea, 2 * args.n_z),\n",
    "        ).to(self.device)\n",
    "        # get the kl facor\n",
    "        self.beta = args.rnn_vae_beta\n",
    "        \n",
    "    def vae_sampling(self, x):\n",
    "        mu, log_sig2 = x.chunk(2, dim=1)\n",
    "        # get random matrix\n",
    "        eps = torch.rand_like(\n",
    "            mu, device=self.device)\n",
    "        # sample together\n",
    "        z = mu + torch.exp(torch.mul(0.5, log_sig2)) * eps\n",
    "        return z, mu, log_sig2\n",
    "    \n",
    "    def kl_loss(self, mu, log_sig2):\n",
    "        return -0.5 * torch.sum(1 - torch.pow(mu, 2) - torch.exp(log_sig2) + log_sig2)\n",
    "        \n",
    "    def forward(self, batch, update=True):\n",
    "        # prepare\n",
    "        img = self.prep_input(batch)\n",
    "        # encode\n",
    "        x = self.encode(img)\n",
    "        # apply the vae sampling\n",
    "        x, mu, log_sig2 = self.vae_sampling(x)\n",
    "        # now the transition\n",
    "        x = self.rnn_transition(x)\n",
    "        # decode\n",
    "        x = self.decode(x)\n",
    "        \n",
    "        # get loss\n",
    "        ae_loss = self.mse_loss(img, x)\n",
    "        vae_loss = self.kl_loss(mu, log_sig2)\n",
    "        loss = ae_loss + self.beta * vae_loss\n",
    "        \n",
    "        if update:\n",
    "            loss.backward()\n",
    "            self.optimizer.step()\n",
    "            return x\n",
    "        \n",
    "        else:\n",
    "            tr_data = {}\n",
    "            tr_data[\"loss\"] = loss.item()\n",
    "            tr_data[\"ae_loss\"] = ae_loss.item()\n",
    "            tr_data[\"vae_loss\"] = vae_loss.item()\n",
    "\n",
    "        return x, tr_data\n",
    "        "
   ]
  },
  {
   "cell_type": "code",
   "execution_count": null,
   "metadata": {},
   "outputs": [],
   "source": [
    "# export\n",
    "\n",
    "\n",
    "class RNN_IN_VAE(RNN_VAE):\n",
    "    \"\"\"\n",
    "    inherit from RNN_VAE and add the GAN part\n",
    "    \"\"\"\n",
    "\n",
    "    def __init__(self, device, args):\n",
    "        #super(RNN_AE, self).__init__(device, args)\n",
    "        RNN_VAE.__init__(self, device, args)\n",
    "        # add extra parameters\n",
    "        self.alpha = args.alpha\n",
    "        self.m = args.m\n",
    "        self.n_pretrain = args.n_pretrain\n",
    "        \n",
    "    def forward(self, batch, update=True):\n",
    "        \n",
    "        # 1st Pass\n",
    "        # prepare\n",
    "        img = self.prep_input(batch)\n",
    "        # encode\n",
    "        x = self.encode(img)\n",
    "        # apply the vae sampling\n",
    "        z, mu, log_sig2 = self.vae_sampling(x)\n",
    "        # now the transition\n",
    "        x = self.rnn_transition(z)\n",
    "        # decode\n",
    "        x_re = self.decode(x)\n",
    "        \n",
    "        # get losses\n",
    "        ae_loss = self.mse_loss(img, x_re)\n",
    "        vae_loss = self.kl_loss(mu, log_sig2)\n",
    "        \n",
    "        # 2nd Pass\n",
    "        x_re = self.encode(x_re.detach())\n",
    "        z_re, mu_re, log_sig2_re = self.vae_sampling(x_re)\n",
    "        \n",
    "        # get losses\n",
    "        vae_loss_2 = self.kl_loss(mu_re, log_sig2_re)\n",
    "        \n",
    "        \n",
    "        \n",
    "        \n",
    "        loss = ae_loss + self.beta * vae_loss\n",
    "        \n",
    "        if update:\n",
    "            loss.backward()\n",
    "            self.optimizer.step()\n",
    "            return x\n",
    "        \n",
    "        else:\n",
    "            tr_data = {}\n",
    "            tr_data[\"loss\"] = loss.item()\n",
    "            tr_data[\"ae_loss\"] = ae_loss.item()\n",
    "            tr_data[\"vae_loss\"] = vae_loss.item()\n",
    "\n",
    "        return x, tr_data\n",
    "        "
   ]
  },
  {
   "cell_type": "code",
   "execution_count": null,
   "metadata": {},
   "outputs": [],
   "source": [
    "# export \n",
    "\n",
    "def Creator_RNN_AE(device, args):\n",
    "    \"\"\"\n",
    "    return an instance of the class depending on the mode set in args\n",
    "    \"\"\"\n",
    "    if args.rnn_vae:\n",
    "        model = RNN_VAE(device, args)\n",
    "    else:\n",
    "        model = RNN_VAE(device, args)\n",
    "    return model"
   ]
  },
  {
   "cell_type": "code",
   "execution_count": null,
   "metadata": {},
   "outputs": [
    {
     "data": {
      "text/plain": [
       "torch.Size([16, 3, 256, 256])"
      ]
     },
     "execution_count": null,
     "metadata": {},
     "output_type": "execute_result"
    }
   ],
   "source": [
    "batch[\"img\"].shape"
   ]
  },
  {
   "cell_type": "code",
   "execution_count": null,
   "metadata": {},
   "outputs": [
    {
     "data": {
      "text/plain": [
       "torch.Size([16, 3, 256, 256])"
      ]
     },
     "execution_count": null,
     "metadata": {},
     "output_type": "execute_result"
    }
   ],
   "source": [
    "device = torch.device(\"cuda:0\" if (\n",
    "        torch.cuda.is_available() and args.n_gpu > 0) else \"cpu\")\n",
    "rnn_vae = RNN_VAE(device, args)\n",
    "data = load_test_batch(args)\n",
    "x, tr = rnn_vae(data, update=False)\n",
    "x.shape"
   ]
  },
  {
   "cell_type": "code",
   "execution_count": null,
   "metadata": {},
   "outputs": [
    {
     "data": {
      "text/plain": [
       "torch.Size([1, 3, 16, 256, 256])"
      ]
     },
     "execution_count": null,
     "metadata": {},
     "output_type": "execute_result"
    }
   ],
   "source": [
    "batch = load_test_batch(args)\n",
    "batch[\"img\"].shape"
   ]
  },
  {
   "cell_type": "code",
   "execution_count": null,
   "metadata": {},
   "outputs": [],
   "source": [
    "# hide\n",
    "from deeptool.train_loop import test_one_batch\n",
    "from deeptool.parameters import get_all_args, compat_args\n",
    "args = get_all_args()\n",
    "args.pic_size = 32"
   ]
  },
  {
   "cell_type": "code",
   "execution_count": null,
   "metadata": {},
   "outputs": [],
   "source": [
    "# 3 dim test\n",
    "args.model_type = \"rnnvae\"\n",
    "args.dim = 3\n",
    "args = compat_args(args)\n",
    "test_one_batch(args)"
   ]
  },
  {
   "cell_type": "code",
   "execution_count": null,
   "metadata": {},
   "outputs": [
    {
     "name": "stdout",
     "output_type": "stream",
     "text": [
      "Converted 00_dataloader.ipynb.\n",
      "Converted 01_architecture.ipynb.\n",
      "Converted 02_utils.ipynb.\n",
      "Converted 03_parameters.ipynb.\n",
      "Converted 04_train_loop.ipynb.\n",
      "Converted 10_diagnosis.ipynb.\n",
      "Converted 20_dcgan.ipynb.\n",
      "Converted 21_introvae.ipynb.\n",
      "Converted 22_vqvae.ipynb.\n",
      "Converted 23_rnn_vae.ipynb.\n",
      "Converted 99_index.ipynb.\n"
     ]
    }
   ],
   "source": [
    "# hide\n",
    "from nbdev.export import *\n",
    "notebook2script()"
   ]
  },
  {
   "cell_type": "code",
   "execution_count": null,
   "metadata": {},
   "outputs": [],
   "source": []
  }
 ],
 "metadata": {
  "kernelspec": {
   "display_name": "'Python Interactive'",
   "language": "python",
   "name": "82fdadc0-b84a-48d1-9b8e-d8a208951284"
  }
 },
 "nbformat": 4,
 "nbformat_minor": 2
}
