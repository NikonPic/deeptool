{
 "cells": [
  {
   "cell_type": "code",
   "execution_count": null,
   "metadata": {},
   "outputs": [],
   "source": [
    "# default_exp abs_model"
   ]
  },
  {
   "cell_type": "code",
   "execution_count": null,
   "metadata": {},
   "outputs": [
    {
     "name": "stdout",
     "output_type": "stream",
     "text": [
      "The autoreload extension is already loaded. To reload it, use:\n",
      "  %reload_ext autoreload\n"
     ]
    }
   ],
   "source": [
    "# hide\n",
    "%load_ext autoreload\n",
    "%autoreload 2"
   ]
  },
  {
   "cell_type": "markdown",
   "metadata": {},
   "source": [
    "# Abstract Model\n",
    "\n",
    "> Contains the general structure for all models in this library"
   ]
  },
  {
   "cell_type": "code",
   "execution_count": null,
   "metadata": {},
   "outputs": [],
   "source": [
    "# export\n",
    "import torch\n",
    "from torch import nn, optim\n",
    "from deeptool.utils import Tracker"
   ]
  },
  {
   "cell_type": "code",
   "execution_count": null,
   "metadata": {},
   "outputs": [],
   "source": [
    "# exports\n",
    "\n",
    "\n",
    "class AbsModel(nn.Module):\n",
    "    \"\"\"\n",
    "    This class contains the general architecture and functionality to deal with all Models in this library\n",
    "    contains:\n",
    "    Tracker -> to visualize the progress\n",
    "    Prep-input -> to handle the input depending on the dataset smootly\n",
    "    \"\"\"\n",
    "\n",
    "    def __init__(self, args):\n",
    "        \"\"\"init the abtract model\"\"\"\n",
    "        super(AbsModel, self).__init__()\n",
    "\n",
    "        # Setup the input loader\n",
    "        self.prep = self.select_prep(args.dataset_type)\n",
    "\n",
    "        # Setup the tracker to visualize the progress\n",
    "        if args.track:\n",
    "            self.tracker = Tracker(args)\n",
    "\n",
    "    def select_prep(self, mode):\n",
    "        switcher = {\n",
    "            \"MRNet\": self.prep_mrnet_input,\n",
    "            \"KneeXray\": self.prep_kneexray_input,\n",
    "        }\n",
    "        # Get the model_creator\n",
    "        prep = switcher.get(mode, lambda: \"Invalid Dataset Type\")\n",
    "        # create model\n",
    "        return prep\n",
    "\n",
    "    def prep_mrnet_input(self, data):\n",
    "        \"\"\"\n",
    "        This function deals with the MRNET input\n",
    "        data = {\"img: x\", ...}\n",
    "        \"\"\"\n",
    "        return data[\"img\"]\n",
    "\n",
    "    def prep_kneexray_input(self, data):\n",
    "        \"\"\"\n",
    "        This function deals with the KneeXray input\n",
    "        data = [x, y]\n",
    "        \"\"\"\n",
    "        return data[0]\n",
    "\n",
    "    @torch.no_grad()\n",
    "    def watch_progress(self, test_data, iteration):\n",
    "        \"\"\"Outsourced to Tracker\"\"\"\n",
    "        self.tracker.track_progress(self, test_data, iteration)"
   ]
  },
  {
   "cell_type": "code",
   "execution_count": null,
   "metadata": {},
   "outputs": [
    {
     "name": "stdout",
     "output_type": "stream",
     "text": [
      "Converted 00_dataloader.ipynb.\n",
      "Converted 01_architecture.ipynb.\n",
      "Converted 02_utils.ipynb.\n",
      "Converted 03_parameters.ipynb.\n",
      "Converted 04_train_loop.ipynb.\n",
      "Converted 05_abstract_model.ipynb.\n",
      "Converted 10_diagnosis.ipynb.\n",
      "Converted 20_dcgan.ipynb.\n",
      "Converted 21_introvae.ipynb.\n",
      "Converted 22_vqvae.ipynb.\n",
      "Converted 23_bigan.ipynb.\n",
      "Converted 24_mocoae.ipynb.\n",
      "Converted 33_rnn_vae.ipynb.\n",
      "Converted 99_index.ipynb.\n"
     ]
    }
   ],
   "source": [
    "# hide\n",
    "from nbdev.export import *\n",
    "\n",
    "notebook2script()"
   ]
  },
  {
   "cell_type": "code",
   "execution_count": null,
   "metadata": {},
   "outputs": [],
   "source": []
  },
  {
   "cell_type": "code",
   "execution_count": null,
   "metadata": {},
   "outputs": [],
   "source": []
  }
 ],
 "metadata": {
  "kernelspec": {
   "display_name": "Python 3",
   "language": "python",
   "name": "python3"
  }
 },
 "nbformat": 4,
 "nbformat_minor": 4
}
